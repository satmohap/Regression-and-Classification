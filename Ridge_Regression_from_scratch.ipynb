{
 "cells": [
  {
   "cell_type": "markdown",
   "metadata": {},
   "source": [
    "## <span style=\"color:purple\">Importing Necessary Libraries"
   ]
  },
  {
   "cell_type": "code",
   "execution_count": 1,
   "metadata": {
    "collapsed": true
   },
   "outputs": [],
   "source": [
    "import pandas as pd\n",
    "import numpy as np\n",
    "from sklearn.preprocessing import OneHotEncoder, LabelEncoder\n",
    "from sklearn.preprocessing import StandardScaler\n",
    "from sklearn.model_selection  import train_test_split\n",
    "from numpy import linalg\n",
    "from sklearn import linear_model\n",
    "from sklearn.metrics import mean_squared_error\n",
    "import matplotlib.pyplot as plt\n",
    "from random import randint\n",
    "%matplotlib inline"
   ]
  },
  {
   "cell_type": "code",
   "execution_count": 2,
   "metadata": {
    "collapsed": true
   },
   "outputs": [],
   "source": [
    "dataset = pd.read_csv('C:/Users/Satya/Documents/DataSets/abalone.data.txt', header=None)\n",
    "dataset.columns = [ 'Sex', 'Length', 'Diameter', 'Height', 'Whole weight', 'Shucked weight', 'Viscera weight', 'Shell weight','Rings']"
   ]
  },
  {
   "cell_type": "markdown",
   "metadata": {},
   "source": [
    "## <span style=\"color:purple\">Question 1a - Transform the first column ''Sex\"  into a three column binary representation</span>"
   ]
  },
  {
   "cell_type": "markdown",
   "metadata": {},
   "source": [
    "##### Using Label Encoder to convert from Text to Numbers"
   ]
  },
  {
   "cell_type": "code",
   "execution_count": 3,
   "metadata": {
    "collapsed": true
   },
   "outputs": [],
   "source": [
    "\n",
    "Labl_Enc = LabelEncoder()\n",
    "gen_labels = Labl_Enc.fit_transform(dataset['Sex'])\n",
    "dataset['Sex'] = gen_labels"
   ]
  },
  {
   "cell_type": "markdown",
   "metadata": {},
   "source": [
    "##### Using One Hot Encoding to Convert into Binary Representation"
   ]
  },
  {
   "cell_type": "code",
   "execution_count": 4,
   "metadata": {
    "collapsed": true
   },
   "outputs": [],
   "source": [
    "gen_ohe = OneHotEncoder()\n",
    "gen_feature_arr = gen_ohe.fit_transform(dataset[['Sex']]).toarray().astype(int)\n",
    "gen_feature_labels = list(Labl_Enc.classes_)\n",
    "gen_features = pd.DataFrame(gen_feature_arr, \n",
    "                            columns=gen_feature_labels)"
   ]
  },
  {
   "cell_type": "code",
   "execution_count": 5,
   "metadata": {},
   "outputs": [
    {
     "data": {
      "text/html": [
       "<div>\n",
       "<style>\n",
       "    .dataframe thead tr:only-child th {\n",
       "        text-align: right;\n",
       "    }\n",
       "\n",
       "    .dataframe thead th {\n",
       "        text-align: left;\n",
       "    }\n",
       "\n",
       "    .dataframe tbody tr th {\n",
       "        vertical-align: top;\n",
       "    }\n",
       "</style>\n",
       "<table border=\"1\" class=\"dataframe\">\n",
       "  <thead>\n",
       "    <tr style=\"text-align: right;\">\n",
       "      <th></th>\n",
       "      <th>Length</th>\n",
       "      <th>Diameter</th>\n",
       "      <th>Height</th>\n",
       "      <th>Whole weight</th>\n",
       "      <th>Shucked weight</th>\n",
       "      <th>Viscera weight</th>\n",
       "      <th>Shell weight</th>\n",
       "      <th>Rings</th>\n",
       "      <th>F</th>\n",
       "      <th>I</th>\n",
       "      <th>M</th>\n",
       "    </tr>\n",
       "  </thead>\n",
       "  <tbody>\n",
       "    <tr>\n",
       "      <th>0</th>\n",
       "      <td>0.455</td>\n",
       "      <td>0.365</td>\n",
       "      <td>0.095</td>\n",
       "      <td>0.5140</td>\n",
       "      <td>0.2245</td>\n",
       "      <td>0.1010</td>\n",
       "      <td>0.150</td>\n",
       "      <td>15</td>\n",
       "      <td>0</td>\n",
       "      <td>0</td>\n",
       "      <td>1</td>\n",
       "    </tr>\n",
       "    <tr>\n",
       "      <th>1</th>\n",
       "      <td>0.350</td>\n",
       "      <td>0.265</td>\n",
       "      <td>0.090</td>\n",
       "      <td>0.2255</td>\n",
       "      <td>0.0995</td>\n",
       "      <td>0.0485</td>\n",
       "      <td>0.070</td>\n",
       "      <td>7</td>\n",
       "      <td>0</td>\n",
       "      <td>0</td>\n",
       "      <td>1</td>\n",
       "    </tr>\n",
       "    <tr>\n",
       "      <th>2</th>\n",
       "      <td>0.530</td>\n",
       "      <td>0.420</td>\n",
       "      <td>0.135</td>\n",
       "      <td>0.6770</td>\n",
       "      <td>0.2565</td>\n",
       "      <td>0.1415</td>\n",
       "      <td>0.210</td>\n",
       "      <td>9</td>\n",
       "      <td>1</td>\n",
       "      <td>0</td>\n",
       "      <td>0</td>\n",
       "    </tr>\n",
       "    <tr>\n",
       "      <th>3</th>\n",
       "      <td>0.440</td>\n",
       "      <td>0.365</td>\n",
       "      <td>0.125</td>\n",
       "      <td>0.5160</td>\n",
       "      <td>0.2155</td>\n",
       "      <td>0.1140</td>\n",
       "      <td>0.155</td>\n",
       "      <td>10</td>\n",
       "      <td>0</td>\n",
       "      <td>0</td>\n",
       "      <td>1</td>\n",
       "    </tr>\n",
       "    <tr>\n",
       "      <th>4</th>\n",
       "      <td>0.330</td>\n",
       "      <td>0.255</td>\n",
       "      <td>0.080</td>\n",
       "      <td>0.2050</td>\n",
       "      <td>0.0895</td>\n",
       "      <td>0.0395</td>\n",
       "      <td>0.055</td>\n",
       "      <td>7</td>\n",
       "      <td>0</td>\n",
       "      <td>1</td>\n",
       "      <td>0</td>\n",
       "    </tr>\n",
       "  </tbody>\n",
       "</table>\n",
       "</div>"
      ],
      "text/plain": [
       "   Length  Diameter  Height  Whole weight  Shucked weight  Viscera weight  \\\n",
       "0   0.455     0.365   0.095        0.5140          0.2245          0.1010   \n",
       "1   0.350     0.265   0.090        0.2255          0.0995          0.0485   \n",
       "2   0.530     0.420   0.135        0.6770          0.2565          0.1415   \n",
       "3   0.440     0.365   0.125        0.5160          0.2155          0.1140   \n",
       "4   0.330     0.255   0.080        0.2050          0.0895          0.0395   \n",
       "\n",
       "   Shell weight  Rings  F  I  M  \n",
       "0         0.150     15  0  0  1  \n",
       "1         0.070      7  0  0  1  \n",
       "2         0.210      9  1  0  0  \n",
       "3         0.155     10  0  0  1  \n",
       "4         0.055      7  0  1  0  "
      ]
     },
     "execution_count": 5,
     "metadata": {},
     "output_type": "execute_result"
    }
   ],
   "source": [
    "dataset = pd.concat([dataset, gen_features,], axis=1)\n",
    "dataset = dataset.drop('Sex' , axis =1)\n",
    "dataset.head()"
   ]
  },
  {
   "cell_type": "code",
   "execution_count": 6,
   "metadata": {
    "collapsed": true
   },
   "outputs": [],
   "source": [
    "#Rearrange Columns to make the predictor Column as the last Variable\n",
    "cols = dataset.columns.tolist()\n",
    "cols =   cols[8:]+cols[0:7]+ cols[7:8]\n",
    "ind_cols = cols[0:10]\n",
    "dataset = dataset[cols]"
   ]
  },
  {
   "cell_type": "markdown",
   "metadata": {},
   "source": [
    "## <span style=\"color:purple\">Question 1b - Standardization the Independent variables"
   ]
  },
  {
   "cell_type": "code",
   "execution_count": 7,
   "metadata": {
    "collapsed": true
   },
   "outputs": [],
   "source": [
    "scaler = StandardScaler()\n",
    "# Fit your data on the scaler object\n",
    "scaled = scaler.fit_transform(dataset[ind_cols])\n",
    "X = pd.DataFrame(scaled, columns=ind_cols)"
   ]
  },
  {
   "cell_type": "code",
   "execution_count": 8,
   "metadata": {
    "collapsed": true
   },
   "outputs": [],
   "source": [
    "Y = dataset['Rings']\n",
    "X['intercept'] = 1 # Adding an Intercept"
   ]
  },
  {
   "cell_type": "markdown",
   "metadata": {},
   "source": [
    "## <span style=\"color:purple\">Question 1c -Implement Functions  for Ridge Regression\n",
    "\n",
    " ##### mylinridgereg(X, Y, L) --> calculates the linear least squares solution with the ridge regression penalty parameter"
   ]
  },
  {
   "cell_type": "code",
   "execution_count": 9,
   "metadata": {
    "collapsed": true
   },
   "outputs": [],
   "source": [
    "def mylinridgereg(x, y, L):\n",
    "    x=np.matrix(x)\n",
    "    y=np.matrix(y).transpose()\n",
    "    XTX = x.transpose()*x\n",
    "    XTY = x.transpose()*y\n",
    "    LI = L*np.matrix(np.identity(len(XTX)))\n",
    "    LI[0,0]=0\n",
    "    weights = linalg.inv(XTX-LI)*XTY\n",
    "    print ( \"the weights are:\" , weights )\n",
    "    return weights"
   ]
  },
  {
   "cell_type": "markdown",
   "metadata": {},
   "source": [
    " ##### mylinridgeregeval(X, weights) --> returns a prediction of the target variable given the input variables and regression weights;"
   ]
  },
  {
   "cell_type": "code",
   "execution_count": 10,
   "metadata": {
    "collapsed": true
   },
   "outputs": [],
   "source": [
    "def mylinridgeregeval(x, weights):\n",
    "    y = np.dot(x,weights)\n",
    "    return y"
   ]
  },
  {
   "cell_type": "markdown",
   "metadata": {},
   "source": [
    "##### meansquarederr(T, Tdash) --> computes the mean squared error between the predicted and actual target values."
   ]
  },
  {
   "cell_type": "code",
   "execution_count": 11,
   "metadata": {
    "collapsed": true
   },
   "outputs": [],
   "source": [
    "def meansquarederr(T, Tdash):\n",
    "    T=np.matrix(T).transpose()\n",
    "    residuals = Tdash - T\n",
    "    SSE = residuals.transpose()*residuals\n",
    "    MSE = SSE/len(T)\n",
    "    print ( \"the mean squared error is:\" , MSE )\n",
    "    return MSE"
   ]
  },
  {
   "cell_type": "markdown",
   "metadata": {},
   "source": [
    "# <span style=\"color:purple\">Question 1d -Partition the dataset into 80% training and 20% testing"
   ]
  },
  {
   "cell_type": "code",
   "execution_count": 12,
   "metadata": {
    "collapsed": true
   },
   "outputs": [],
   "source": [
    "X_train , X_Test , y_train , y_test = train_test_split(X,Y,test_size = 0.2 , random_state = 0 )"
   ]
  },
  {
   "cell_type": "markdown",
   "metadata": {},
   "source": [
    "#### Predict target variable for both training and testing data."
   ]
  },
  {
   "cell_type": "code",
   "execution_count": 13,
   "metadata": {},
   "outputs": [
    {
     "name": "stdout",
     "output_type": "stream",
     "text": [
      "the weights are: [[ 0.16737152]\n",
      " [-0.21728251]\n",
      " [ 0.21065652]\n",
      " [-0.04556324]\n",
      " [ 1.12896936]\n",
      " [ 0.33828121]\n",
      " [ 4.80363486]\n",
      " [-4.57528618]\n",
      " [-1.21713646]\n",
      " [ 1.09170674]\n",
      " [ 9.92942531]]\n",
      "the mean squared error is: [[4.75710205]]\n"
     ]
    }
   ],
   "source": [
    "#Prediction For Train Data\n",
    "weights = mylinridgereg(X_train,y_train,1)\n",
    "y_pred = mylinridgeregeval(X_train,weights) #Predicted Variable\n",
    "MSE = meansquarederr(y_train, y_pred)"
   ]
  },
  {
   "cell_type": "code",
   "execution_count": 14,
   "metadata": {},
   "outputs": [
    {
     "name": "stdout",
     "output_type": "stream",
     "text": [
      "the weights are: [[ 0.16737152]\n",
      " [-0.21728251]\n",
      " [ 0.21065652]\n",
      " [-0.04556324]\n",
      " [ 1.12896936]\n",
      " [ 0.33828121]\n",
      " [ 4.80363486]\n",
      " [-4.57528618]\n",
      " [-1.21713646]\n",
      " [ 1.09170674]\n",
      " [ 9.92942531]]\n",
      "the mean squared error is: [[5.01037312]]\n"
     ]
    }
   ],
   "source": [
    "#Prediction For Test Data\n",
    "weights = mylinridgereg(X_train,y_train,1)\n",
    "y_pred = mylinridgeregeval(X_Test,weights) #Predicted Variable\n",
    "MSE = meansquarederr(y_test, y_pred)"
   ]
  },
  {
   "cell_type": "markdown",
   "metadata": {},
   "source": [
    "# <span style=\"color:purple\">Question 1e Identify lamba with the best performance"
   ]
  },
  {
   "cell_type": "code",
   "execution_count": 15,
   "metadata": {
    "collapsed": true
   },
   "outputs": [],
   "source": [
    "%%capture\n",
    "# Capturing MSE for Lambda values between 1-100\n",
    "Lambda_Values = []\n",
    "MSE_Values = []\n",
    "for Lambda in np.linspace(0, 20, num=100):\n",
    "    weights = mylinridgereg(X_train,y_train,Lambda)\n",
    "    y_pred = mylinridgeregeval(X_Test,weights)\n",
    "    MSE = meansquarederr(y_test, y_pred)\n",
    "    Lambda_Values.append(Lambda)\n",
    "    MSE_Values.append(MSE)"
   ]
  },
  {
   "cell_type": "code",
   "execution_count": 16,
   "metadata": {},
   "outputs": [
    {
     "data": {
      "text/plain": [
       "Text(0,0.5,'MSE')"
      ]
     },
     "execution_count": 16,
     "metadata": {},
     "output_type": "execute_result"
    },
    {
     "data": {
      "image/png": "[encoded data removed]",
      "text/plain": [
       "<matplotlib.figure.Figure at 0x1bb4e7ca6a0>"
      ]
     },
     "metadata": {},
     "output_type": "display_data"
    }
   ],
   "source": [
    "plotdata = pd.DataFrame({'Lambda': Lambda_Values, 'MSE': MSE_Values })\n",
    "plt.plot( 'Lambda', 'MSE', data=plotdata, marker='', color='orange', linewidth=2)\n",
    "plt.xlabel('Lambda')\n",
    "plt.ylabel('MSE')"
   ]
  },
  {
   "cell_type": "markdown",
   "metadata": {},
   "source": [
    "####  Based on the Above Curve it is quite evident Lambda values must be on the lower side for best performance . Typically the Value should be between 0 to 10"
   ]
  },
  {
   "cell_type": "markdown",
   "metadata": {},
   "source": [
    "#### Which are the most significant attributes?"
   ]
  },
  {
   "cell_type": "code",
   "execution_count": 17,
   "metadata": {},
   "outputs": [
    {
     "name": "stdout",
     "output_type": "stream",
     "text": [
      "the weights are: [[ 0.16737152]\n",
      " [-0.21728251]\n",
      " [ 0.21065652]\n",
      " [-0.04556324]\n",
      " [ 1.12896936]\n",
      " [ 0.33828121]\n",
      " [ 4.80363486]\n",
      " [-4.57528618]\n",
      " [-1.21713646]\n",
      " [ 1.09170674]\n",
      " [ 9.92942531]]\n",
      "the mean squared error is: [[5.01037312]]\n"
     ]
    }
   ],
   "source": [
    "#Prediction For Test Data\n",
    "weights = mylinridgereg(X_train,y_train,1)\n",
    "y_pred = mylinridgeregeval(X_Test,weights)\n",
    "MSE = meansquarederr(y_test, y_pred)"
   ]
  },
  {
   "cell_type": "markdown",
   "metadata": {},
   "source": [
    "#### Based on the coefficient Values we are dropping the below features. "
   ]
  },
  {
   "cell_type": "code",
   "execution_count": 18,
   "metadata": {
    "collapsed": true
   },
   "outputs": [],
   "source": [
    "New_X = X.copy()\n",
    "New_X.drop(['F', 'I', 'M', 'Length' , 'Diameter' , 'Viscera weight'] , axis = 1, inplace = True)"
   ]
  },
  {
   "cell_type": "code",
   "execution_count": 19,
   "metadata": {},
   "outputs": [
    {
     "name": "stdout",
     "output_type": "stream",
     "text": [
      "the weights are: [[ 0.56243629]\n",
      " [ 3.53536713]\n",
      " [-4.10020943]\n",
      " [ 1.78740554]\n",
      " [ 9.93051308]]\n",
      "the mean squared error is: [[5.26056529]]\n"
     ]
    }
   ],
   "source": [
    "X_train , X_Test , y_train , y_test = train_test_split(New_X,Y,test_size = 0.2 , random_state = 0 )\n",
    "#Prediction For Test Data\n",
    "weights = mylinridgereg(X_train,y_train,1)\n",
    "y_pred = mylinridgeregeval(X_Test,weights)\n",
    "MSE = meansquarederr(y_test, y_pred)"
   ]
  },
  {
   "cell_type": "markdown",
   "metadata": {},
   "source": [
    "### But surprisingly there have not been any improvement in MSE Values.  But also the difference is not huge. So if we need a simple model we may even stick with this"
   ]
  },
  {
   "cell_type": "markdown",
   "metadata": {},
   "source": [
    "## <span style=\"color:purple\">  Creating a Function for Question  1(f) , 1(g), 1(h) . \n",
    "##### <span style=\"color:purple\"> The Function Will Return the Below\n",
    "\n",
    "##### <span style=\"color:purple\">  a) A List of Mean Squared Error ( Test Set ) for one Fraction for a set of Lamba Values\n",
    "##### <span style=\"color:purple\">  b) A List of Mean Squared Error ( Train Set ) for one Fraction for a set of Lamba Values\n",
    "##### <span style=\"color:purple\">  c) A List of of Lamba Values the same Fraction\n"
   ]
  },
  {
   "cell_type": "code",
   "execution_count": 20,
   "metadata": {
    "collapsed": true
   },
   "outputs": [],
   "source": [
    "def MSE_calc ( Fraction_Size , X , Y ) : \n",
    "    Lambda_Values = []\n",
    "    MSE_Test_Values = []\n",
    "    MSE_Train_Values = []\n",
    "    MSE_Test_itr_Values = []\n",
    "    MSE_Train_itr_Values = []\n",
    "    for Lambda in np.linspace(0, 10, num=20):\n",
    "        for i in np.linspace(1, 25, num=25):\n",
    "            X_train , X_Test , y_train , y_test = train_test_split(X,Y,test_size = Fraction_Size , random_state = None )\n",
    "            weights = mylinridgereg(X_train,y_train,Lambda)\n",
    "            y_pred_test = mylinridgeregeval(X_Test,weights)\n",
    "            y_pred_train = mylinridgeregeval(X_train,weights)\n",
    "            MSE_Test = meansquarederr(y_test, y_pred_test)\n",
    "            MSE_Train = meansquarederr(y_train, y_pred_train)\n",
    "            MSE_Test_itr_Values.append(MSE_Test)\n",
    "            MSE_Train_itr_Values.append(MSE_Train)\n",
    "        MSE_Test_itr = np.mean(MSE_Test_itr_Values)\n",
    "        MSE_Train_itr = np.mean(MSE_Train_itr_Values)\n",
    "        Lambda_Values.append(Lambda)\n",
    "        MSE_Test_Values.append(MSE_Test_itr)\n",
    "        MSE_Train_Values.append(MSE_Train_itr)\n",
    "    return Lambda_Values , MSE_Test_Values , MSE_Train_Values"
   ]
  },
  {
   "cell_type": "code",
   "execution_count": 21,
   "metadata": {
    "collapsed": true
   },
   "outputs": [],
   "source": [
    "Min_MSE = []\n",
    "Fraction_Size  = []\n",
    "Min_Lambda= []"
   ]
  },
  {
   "cell_type": "code",
   "execution_count": 24,
   "metadata": {
    "collapsed": true
   },
   "outputs": [],
   "source": [
    "%%capture\n",
    "Lambda_Values , MSE_Test_Values , MSE_Train_Values = MSE_calc ( .1 , X , Y)\n",
    "Min_MSE.append(np.min(MSE_Test_Values))\n",
    "Fraction_Size.append(.1)\n",
    "Min_Lambda.append(Lambda_Values[list(MSE_Test_Values).index(np.min(MSE_Test_Values))])"
   ]
  },
  {
   "cell_type": "markdown",
   "metadata": {},
   "source": [
    "#### Figure 1 for with lambda  on the x-axis, and MSE on the y-axis."
   ]
  },
  {
   "cell_type": "code",
   "execution_count": 25,
   "metadata": {},
   "outputs": [
    {
     "data": {
      "text/plain": [
       "<matplotlib.legend.Legend at 0x1bb4faf2358>"
      ]
     },
     "execution_count": 25,
     "metadata": {},
     "output_type": "execute_result"
    },
    {
     "data": {
      "image/png": "[encoded data removed]",
      "text/plain": [
       "<matplotlib.figure.Figure at 0x1bb4fa86898>"
      ]
     },
     "metadata": {},
     "output_type": "display_data"
    }
   ],
   "source": [
    "Test_vs_Train=pd.DataFrame({'Lambda': Lambda_Values, 'Test_MSE': MSE_Test_Values, 'Train_MSE': MSE_Train_Values })\n",
    "plt.plot( 'Lambda', 'Test_MSE', data=Test_vs_Train, marker='', color='blue', linewidth=2)\n",
    "plt.plot( 'Lambda', 'Train_MSE', data=Test_vs_Train, marker='', color='green', linewidth=2)\n",
    "plt.xlabel('Lambda')\n",
    "plt.ylabel('MSE')\n",
    "plt.legend()"
   ]
  },
  {
   "cell_type": "code",
   "execution_count": 26,
   "metadata": {
    "collapsed": true
   },
   "outputs": [],
   "source": [
    "%%capture\n",
    "Lambda_Values , MSE_Test_Values , MSE_Train_Values = MSE_calc ( .15 , X , Y)\n",
    "Min_MSE.append(np.min(MSE_Test_Values))\n",
    "Fraction_Size.append(.15)\n",
    "Min_Lambda.append(Lambda_Values[list(MSE_Test_Values).index(np.min(MSE_Test_Values))])"
   ]
  },
  {
   "cell_type": "markdown",
   "metadata": {},
   "source": [
    "#### Figure 2 for with lambda  on the x-axis, and MSE on the y-axis."
   ]
  },
  {
   "cell_type": "code",
   "execution_count": 27,
   "metadata": {},
   "outputs": [
    {
     "data": {
      "text/plain": [
       "<matplotlib.legend.Legend at 0x1bb4fb8f588>"
      ]
     },
     "execution_count": 27,
     "metadata": {},
     "output_type": "execute_result"
    },
    {
     "data": {
      "image/png": "[encoded data removed]",
      "text/plain": [
       "<matplotlib.figure.Figure at 0x1bb4faf26d8>"
      ]
     },
     "metadata": {},
     "output_type": "display_data"
    }
   ],
   "source": [
    "Test_vs_Train=pd.DataFrame({'Lambda': Lambda_Values, 'Test_MSE': MSE_Test_Values, 'Train_MSE': MSE_Train_Values })\n",
    "plt.plot( 'Lambda', 'Test_MSE', data=Test_vs_Train, marker='', color='blue', linewidth=2)\n",
    "plt.plot( 'Lambda', 'Train_MSE', data=Test_vs_Train, marker='', color='green', linewidth=2)\n",
    "plt.xlabel('Lambda')\n",
    "plt.ylabel('MSE')\n",
    "plt.legend()"
   ]
  },
  {
   "cell_type": "code",
   "execution_count": 28,
   "metadata": {
    "collapsed": true
   },
   "outputs": [],
   "source": [
    "%%capture\n",
    "Lambda_Values , MSE_Test_Values , MSE_Train_Values = MSE_calc ( .2 , X , Y)\n",
    "Min_MSE.append(np.min(MSE_Test_Values))\n",
    "Fraction_Size.append(.2)\n",
    "Min_Lambda.append(Lambda_Values[list(MSE_Test_Values).index(np.min(MSE_Test_Values))])"
   ]
  },
  {
   "cell_type": "markdown",
   "metadata": {},
   "source": [
    "####  Figure 3 for with lambda  on the x-axis, and MSE on the y-axis."
   ]
  },
  {
   "cell_type": "code",
   "execution_count": 29,
   "metadata": {},
   "outputs": [
    {
     "data": {
      "text/plain": [
       "<matplotlib.legend.Legend at 0x1bb4fbe6b70>"
      ]
     },
     "execution_count": 29,
     "metadata": {},
     "output_type": "execute_result"
    },
    {
     "data": {
      "image/png": "[encoded data removed]",
      "text/plain": [
       "<matplotlib.figure.Figure at 0x1bb4fb8f908>"
      ]
     },
     "metadata": {},
     "output_type": "display_data"
    }
   ],
   "source": [
    "Test_vs_Train=pd.DataFrame({'Lambda': Lambda_Values, 'Test_MSE': MSE_Test_Values, 'Train_MSE': MSE_Train_Values })\n",
    "plt.plot( 'Lambda', 'Test_MSE', data=Test_vs_Train, marker='', color='blue', linewidth=2)\n",
    "plt.plot( 'Lambda', 'Train_MSE', data=Test_vs_Train, marker='', color='green', linewidth=2)\n",
    "plt.legend()"
   ]
  },
  {
   "cell_type": "code",
   "execution_count": 30,
   "metadata": {
    "collapsed": true
   },
   "outputs": [],
   "source": [
    "%%capture\n",
    "Lambda_Values , MSE_Test_Values , MSE_Train_Values = MSE_calc ( .25 , X , Y)\n",
    "Min_MSE.append(np.min(MSE_Test_Values))\n",
    "Fraction_Size.append(.25)\n",
    "Min_Lambda.append(Lambda_Values[list(MSE_Test_Values).index(np.min(MSE_Test_Values))])"
   ]
  },
  {
   "cell_type": "markdown",
   "metadata": {},
   "source": [
    "####  Figure 4 for with lambda  on the x-axis, and MSE on the y-axis."
   ]
  },
  {
   "cell_type": "code",
   "execution_count": 31,
   "metadata": {},
   "outputs": [
    {
     "data": {
      "text/plain": [
       "<matplotlib.legend.Legend at 0x1bb4fc6bb00>"
      ]
     },
     "execution_count": 31,
     "metadata": {},
     "output_type": "execute_result"
    },
    {
     "data": {
      "image/png": "[encoded data removed]",
      "text/plain": [
       "<matplotlib.figure.Figure at 0x1bb4fc3b7b8>"
      ]
     },
     "metadata": {},
     "output_type": "display_data"
    }
   ],
   "source": [
    "Test_vs_Train=pd.DataFrame({'Lambda': Lambda_Values, 'Test_MSE': MSE_Test_Values, 'Train_MSE': MSE_Train_Values })\n",
    "plt.plot( 'Lambda', 'Test_MSE', data=Test_vs_Train, marker='', color='blue', linewidth=2)\n",
    "plt.plot( 'Lambda', 'Train_MSE', data=Test_vs_Train, marker='', color='green', linewidth=2)\n",
    "plt.xlabel('Lambda')\n",
    "plt.ylabel('MSE')\n",
    "plt.legend()"
   ]
  },
  {
   "cell_type": "code",
   "execution_count": 32,
   "metadata": {
    "collapsed": true
   },
   "outputs": [],
   "source": [
    "%%capture\n",
    "Lambda_Values , MSE_Test_Values , MSE_Train_Values = MSE_calc ( .3 , X , Y)\n",
    "Min_MSE.append(np.min(MSE_Test_Values))\n",
    "Fraction_Size.append(.3)\n",
    "Min_Lambda.append(Lambda_Values[list(MSE_Test_Values).index(np.min(MSE_Test_Values))])"
   ]
  },
  {
   "cell_type": "markdown",
   "metadata": {},
   "source": [
    "#### Figure 5 for with lambda  on the x-axis, and MSE on the y-axis."
   ]
  },
  {
   "cell_type": "code",
   "execution_count": 33,
   "metadata": {},
   "outputs": [
    {
     "data": {
      "text/plain": [
       "<matplotlib.legend.Legend at 0x1bb4fce9d68>"
      ]
     },
     "execution_count": 33,
     "metadata": {},
     "output_type": "execute_result"
    },
    {
     "data": {
      "image/png": "[encoded data removed]",
      "text/plain": [
       "<matplotlib.figure.Figure at 0x1bb4fc04a20>"
      ]
     },
     "metadata": {},
     "output_type": "display_data"
    }
   ],
   "source": [
    "Test_vs_Train=pd.DataFrame({'Lambda': Lambda_Values, 'Test_MSE': MSE_Test_Values, 'Train_MSE': MSE_Train_Values })\n",
    "plt.plot( 'Lambda', 'Test_MSE', data=Test_vs_Train, marker='', color='blue', linewidth=2)\n",
    "plt.plot( 'Lambda', 'Train_MSE', data=Test_vs_Train, marker='', color='green', linewidth=2)\n",
    "plt.xlabel('Lambda')\n",
    "plt.ylabel('MSE')\n",
    "plt.legend()"
   ]
  },
  {
   "cell_type": "markdown",
   "metadata": {},
   "source": [
    "#### The Above Figures gives the Following Clarity\n",
    "####  -> Generally The Train MSE is always less than Test MSE\n",
    "#### -> As we increase lambda Values both Train and Test MSE increases . As we increase it more the rate of increase in MSE also increases"
   ]
  },
  {
   "cell_type": "markdown",
   "metadata": {},
   "source": [
    "#### Plot of minimum average mean squared testing error versus the partition fraction values."
   ]
  },
  {
   "cell_type": "code",
   "execution_count": 34,
   "metadata": {},
   "outputs": [
    {
     "data": {
      "text/plain": [
       "Text(0,0.5,'Min_MSE')"
      ]
     },
     "execution_count": 34,
     "metadata": {},
     "output_type": "execute_result"
    },
    {
     "data": {
      "image/png": "[encoded data removed]",
      "text/plain": [
       "<matplotlib.figure.Figure at 0x1bb4f996d30>"
      ]
     },
     "metadata": {},
     "output_type": "display_data"
    }
   ],
   "source": [
    "plotdata = pd.DataFrame({'Fraction_Size': Fraction_Size, 'Min_MSE': Min_MSE })\n",
    "plt.plot( 'Fraction_Size', 'Min_MSE', data=plotdata, marker='', color='blue', linewidth=2)\n",
    "plt.xlabel('Fraction_Size') \n",
    "plt.ylabel('Min_MSE') "
   ]
  },
  {
   "cell_type": "markdown",
   "metadata": {},
   "source": [
    "#### plot of Lambda  value that produced the minimum average mean squared testing error versus the partition fraction."
   ]
  },
  {
   "cell_type": "code",
   "execution_count": 35,
   "metadata": {},
   "outputs": [
    {
     "data": {
      "text/plain": [
       "Text(0,0.5,'Min_Lambda')"
      ]
     },
     "execution_count": 35,
     "metadata": {},
     "output_type": "execute_result"
    },
    {
     "data": {
      "image/png": "[encoded data removed]",
      "text/plain": [
       "<matplotlib.figure.Figure at 0x1bb4fd5dba8>"
      ]
     },
     "metadata": {},
     "output_type": "display_data"
    }
   ],
   "source": [
    "plotdata = pd.DataFrame({'Fraction_Size': Fraction_Size, 'Min_Lambda': Min_Lambda })\n",
    "plt.plot( 'Fraction_Size', 'Min_Lambda', data=plotdata, marker='', color='blue', linewidth=2)\n",
    "plt.xlabel('Fraction_Size') \n",
    "plt.ylabel('Min_Lambda') "
   ]
  },
  {
   "cell_type": "code",
   "execution_count": 36,
   "metadata": {},
   "outputs": [
    {
     "name": "stdout",
     "output_type": "stream",
     "text": [
      "the weights are: [[ 0.1875    ]\n",
      " [-0.1875    ]\n",
      " [ 0.1875    ]\n",
      " [-0.0286486 ]\n",
      " [ 0.89046922]\n",
      " [ 0.79679492]\n",
      " [ 4.22949828]\n",
      " [-4.26403433]\n",
      " [-1.25401391]\n",
      " [ 1.24652458]\n",
      " [ 9.92100331]]\n"
     ]
    }
   ],
   "source": [
    "X_train , X_Test , y_train , y_test = train_test_split(X,Y,test_size = .2 , random_state = None )\n",
    "weights = mylinridgereg(X_train,y_train,0)\n",
    "y_pred_test = mylinridgeregeval(X_Test,weights)\n",
    "y_pred_train = mylinridgeregeval(X_train,weights)"
   ]
  },
  {
   "cell_type": "markdown",
   "metadata": {},
   "source": [
    "#### Plot of predicted versus actual values for Test Data"
   ]
  },
  {
   "cell_type": "code",
   "execution_count": 37,
   "metadata": {},
   "outputs": [
    {
     "data": {
      "text/plain": [
       "Text(0,0.5,'Predicated_Value')"
      ]
     },
     "execution_count": 37,
     "metadata": {},
     "output_type": "execute_result"
    },
    {
     "data": {
      "image/png": "[encoded data removed]",
      "text/plain": [
       "<matplotlib.figure.Figure at 0x1bb4e7b6780>"
      ]
     },
     "metadata": {},
     "output_type": "display_data"
    }
   ],
   "source": [
    "plt.scatter(pd.DataFrame(np.matrix(y_test).transpose())[0], pd.DataFrame(y_pred_test)[0])\n",
    "plt.xlabel('Actal_Value') \n",
    "plt.ylabel('Predicated_Value') "
   ]
  },
  {
   "cell_type": "markdown",
   "metadata": {},
   "source": [
    "#### Plot of predicted versus actual values for Train Data"
   ]
  },
  {
   "cell_type": "code",
   "execution_count": 38,
   "metadata": {},
   "outputs": [
    {
     "data": {
      "text/plain": [
       "Text(0,0.5,'Predicated_Value')"
      ]
     },
     "execution_count": 38,
     "metadata": {},
     "output_type": "execute_result"
    },
    {
     "data": {
      "image/png": "[encoded data removed]",
      "text/plain": [
       "<matplotlib.figure.Figure at 0x1bb4fe1ad30>"
      ]
     },
     "metadata": {},
     "output_type": "display_data"
    }
   ],
   "source": [
    "plt.scatter(pd.DataFrame(np.matrix(y_test).transpose())[0],pd.DataFrame(y_pred_test)[0])\n",
    "plt.xlabel('Actal_Value') \n",
    "plt.ylabel('Predicated_Value') "
   ]
  },
  {
   "cell_type": "markdown",
   "metadata": {},
   "source": [
    "#### As Mentioned in the Question the Above 2 should give us Straight Line , But We do have a slightly different figures. If we look closely the scatter plot does resemble close to a 45-degree line through the plot. "
   ]
  }
 ],
 "metadata": {
  "kernelspec": {
   "display_name": "Python 3",
   "language": "python",
   "name": "python3"
  },
  "language_info": {
   "codemirror_mode": {
    "name": "ipython",
    "version": 3
   },
   "file_extension": ".py",
   "mimetype": "text/x-python",
   "name": "python",
   "nbconvert_exporter": "python",
   "pygments_lexer": "ipython3",
   "version": "3.6.8"
  }
 },
 "nbformat": 4,
 "nbformat_minor": 2
}
