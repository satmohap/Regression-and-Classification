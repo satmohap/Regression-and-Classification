{
 "cells": [
  {
   "cell_type": "markdown",
   "metadata": {},
   "source": [
    "\n",
    "# <span style=\"color:red\">**Question 1(a)  - Random Forest  Implementation**</span>"
   ]
  },
  {
   "cell_type": "markdown",
   "metadata": {},
   "source": [
    "#### Reading data From File  ,  Importing Packages , Converting all the values to Float from String"
   ]
  },
  {
   "cell_type": "code",
   "execution_count": 1,
   "metadata": {},
   "outputs": [
    {
     "name": "stdout",
     "output_type": "stream",
     "text": [
      "Number of records: 4600\n"
     ]
    }
   ],
   "source": [
    "import csv\n",
    "import os\n",
    "import time\n",
    "import numpy as np\n",
    "from math import log\n",
    "from random import randrange\n",
    "import pandas as pd\n",
    "from sklearn.metrics import accuracy_score\n",
    "from sklearn.ensemble import RandomForestClassifier\n",
    "from sklearn.ensemble import ExtraTreesClassifier\n",
    "import warnings\n",
    "warnings.filterwarnings('ignore')\n",
    "os.chdir(\"C:/Users/Satya/Documents/DataSets/\")\n",
    "\n",
    "#Load data set\n",
    "with open(\"spambase.data\") as f:  # #C:/Users/Satya/Documents/DataSets/spambase.data\n",
    "    next(f, None)\n",
    "    data = [list(line) for line in csv.reader(f, delimiter=\",\")]\n",
    "data =np.array(data,float)\n",
    "print (\"Number of records: %d\" % len(data))"
   ]
  },
  {
   "cell_type": "markdown",
   "metadata": {},
   "source": [
    "#### Splitting Data into Train-Test  ( 70%  Train &  30% Test )"
   ]
  },
  {
   "cell_type": "code",
   "execution_count": 2,
   "metadata": {
    "collapsed": true
   },
   "outputs": [],
   "source": [
    "#Splitting# Splitting the dataset into the Training set and Test set\n",
    "from sklearn.cross_validation import train_test_split\n",
    "training_set, test_set = train_test_split(data, test_size = 0.3, random_state = 10)"
   ]
  },
  {
   "cell_type": "markdown",
   "metadata": {},
   "source": [
    "### <span style=\"color:purple\"> Start - Decision Tree Section ( Mostly Inherited from Assignment 1)"
   ]
  },
  {
   "cell_type": "markdown",
   "metadata": {},
   "source": [
    "###### Creating Function to bin Feature Values to create multiple thresholds for finding the best condition for Information Gain"
   ]
  },
  {
   "cell_type": "code",
   "execution_count": 3,
   "metadata": {
    "collapsed": true
   },
   "outputs": [],
   "source": [
    "def binned_vals(rows, col):\n",
    "    values= set([row[col] for row in rows])\n",
    "    return list(np.histogram([float(i) for i in values],bins=10)[1])"
   ]
  },
  {
   "cell_type": "markdown",
   "metadata": {},
   "source": [
    "##### Counting class labels for a dataset or subset of data arriving at a Node"
   ]
  },
  {
   "cell_type": "code",
   "execution_count": 4,
   "metadata": {
    "collapsed": true
   },
   "outputs": [],
   "source": [
    "def class_counts(rows):\n",
    "    counts = {}  \n",
    "    for row in rows:\n",
    "        label = row[-1]\n",
    "        if label not in counts:\n",
    "            counts[label] = 0\n",
    "        counts[label] += 1\n",
    "    return counts"
   ]
  },
  {
   "cell_type": "markdown",
   "metadata": {},
   "source": [
    "#### Function for Calculating Entropy Calculation"
   ]
  },
  {
   "cell_type": "code",
   "execution_count": 5,
   "metadata": {
    "collapsed": true
   },
   "outputs": [],
   "source": [
    "def Entropy_Calc(rows):\n",
    "    counts = class_counts(rows)\n",
    "    entropy = 0\n",
    "    for lbl in counts:\n",
    "        prob_of_lbl = counts[lbl] / float(len(rows))\n",
    "        entropy -= prob_of_lbl * log(prob_of_lbl, 2)\n",
    "    return entropy"
   ]
  },
  {
   "cell_type": "markdown",
   "metadata": {
    "collapsed": true
   },
   "source": [
    "#### Function for Creating Evaluation Criterias for various theresholds for Any Feature"
   ]
  },
  {
   "cell_type": "code",
   "execution_count": 6,
   "metadata": {
    "collapsed": true
   },
   "outputs": [],
   "source": [
    "class Eval_Criteria:\n",
    "    \n",
    "    def __init__(self, column, value):\n",
    "        self.column = column\n",
    "        self.value = value\n",
    "\n",
    "    def Eval(self, example):\n",
    "        val = example[self.column]\n",
    "        return val >= self.value"
   ]
  },
  {
   "cell_type": "markdown",
   "metadata": {},
   "source": [
    "####  Function for binary univariate split for the  Data Set / Subset of Data  at a Decision Node"
   ]
  },
  {
   "cell_type": "code",
   "execution_count": 7,
   "metadata": {
    "collapsed": true
   },
   "outputs": [],
   "source": [
    "def Splits(rows, Evals_Criteria):\n",
    "    right_rows, left_rows = [], []\n",
    "    for row in rows:\n",
    "        if Evals_Criteria.Eval(row):\n",
    "            right_rows.append(row)\n",
    "        else:\n",
    "            left_rows.append(row)\n",
    "    return right_rows, left_rows"
   ]
  },
  {
   "cell_type": "markdown",
   "metadata": {
    "collapsed": true
   },
   "source": [
    "##### Function for Calculating Information Gain "
   ]
  },
  {
   "cell_type": "code",
   "execution_count": 8,
   "metadata": {
    "collapsed": true
   },
   "outputs": [],
   "source": [
    "def info_gain(left, right, current_entropy):\n",
    "    p = float(len(left)) / (len(left) + len(right))\n",
    "    return current_entropy - p * Entropy_Calc(left) - (1 - p) * Entropy_Calc(right)"
   ]
  },
  {
   "cell_type": "markdown",
   "metadata": {},
   "source": [
    "#### Function for Finding Best Split or Evaluation Criteria  at each node by calculating Information Gain"
   ]
  },
  {
   "cell_type": "code",
   "execution_count": 9,
   "metadata": {
    "collapsed": true
   },
   "outputs": [],
   "source": [
    "def find_best_split(rows,n_features):\n",
    "    best_gain = 0  \n",
    "    best_eval_criteria = None  \n",
    "    current_entropy = Entropy_Calc(rows)\n",
    "     \n",
    "\n",
    "    for col in np.random.randint(0,56, size=n_features):  \n",
    "        values = binned_vals(rows,col) \n",
    "\n",
    "        for val in values:  # for each value\n",
    "            Evals_Criteria = Eval_Criteria(col, val)\n",
    "            right_rows, left_rows = Splits(rows, Evals_Criteria)\n",
    "            \n",
    "            if len(right_rows) == 0 or len(left_rows) == 0:\n",
    "                continue\n",
    "\n",
    "            gain = info_gain(right_rows, left_rows, current_entropy)\n",
    "\n",
    "            if gain >= best_gain:\n",
    "                best_gain, best_eval_criteria = gain, Evals_Criteria\n",
    "\n",
    "    return best_gain, best_eval_criteria"
   ]
  },
  {
   "cell_type": "markdown",
   "metadata": {},
   "source": [
    "#### Class for Prediction Node"
   ]
  },
  {
   "cell_type": "code",
   "execution_count": 10,
   "metadata": {
    "collapsed": true
   },
   "outputs": [],
   "source": [
    "class Prediction_Node:\n",
    "    def __init__(self, rows):\n",
    "        self.predictions = list(class_counts(rows).keys())[0]"
   ]
  },
  {
   "cell_type": "markdown",
   "metadata": {},
   "source": [
    "#### Class for Decision Node"
   ]
  },
  {
   "cell_type": "code",
   "execution_count": 11,
   "metadata": {
    "collapsed": true
   },
   "outputs": [],
   "source": [
    "class Decision_Node:\n",
    "    def __init__(self,\n",
    "                 Evals_Criteria,\n",
    "                 true_branch,\n",
    "                 false_branch):\n",
    "        self.Evals_Criteria = Evals_Criteria\n",
    "        self.true_branch = true_branch\n",
    "        self.false_branch = false_branch"
   ]
  },
  {
   "cell_type": "markdown",
   "metadata": {},
   "source": [
    "#### Function for Building the Tree recursively"
   ]
  },
  {
   "cell_type": "code",
   "execution_count": 12,
   "metadata": {
    "collapsed": true
   },
   "outputs": [],
   "source": [
    "def build_tree(rows,n_features):\n",
    "    gain, Evals_Criteria = find_best_split(rows,n_features)\n",
    "    if gain == 0:\n",
    "        return Prediction_Node(rows)\n",
    "    true_rows, false_rows = Splits(rows, Evals_Criteria)\n",
    "    true_branch = build_tree(true_rows,n_features)\n",
    "    false_branch = build_tree(false_rows,n_features)\n",
    "    return Decision_Node(Evals_Criteria, true_branch, false_branch)"
   ]
  },
  {
   "cell_type": "markdown",
   "metadata": {},
   "source": [
    "#### Function for Classifying Test Data"
   ]
  },
  {
   "cell_type": "code",
   "execution_count": 13,
   "metadata": {
    "collapsed": true
   },
   "outputs": [],
   "source": [
    "def classify(row, node):\n",
    "    if isinstance(node, Prediction_Node):\n",
    "        return node.predictions\n",
    "    if node.Evals_Criteria.Eval(row):\n",
    "        return classify(row, node.true_branch)\n",
    "    else:\n",
    "        return classify(row, node.false_branch)"
   ]
  },
  {
   "cell_type": "markdown",
   "metadata": {},
   "source": [
    "### <span style=\"color:purple\"> End - Decision Tree Section ( Mostly Inherited from Assignment 1)"
   ]
  },
  {
   "cell_type": "markdown",
   "metadata": {},
   "source": [
    "#### Function for Creating Random Samples with replacement  for each tree to be trained "
   ]
  },
  {
   "cell_type": "code",
   "execution_count": 14,
   "metadata": {
    "collapsed": true
   },
   "outputs": [],
   "source": [
    "def subsample(dataset, ratio):\n",
    "    sample = list()\n",
    "    n_sample = round(len(dataset) * ratio)\n",
    "    while len(sample) < n_sample:\n",
    "        index = randrange(len(dataset))\n",
    "        sample.append(dataset[index])\n",
    "    return sample"
   ]
  },
  {
   "cell_type": "markdown",
   "metadata": {},
   "source": [
    "#### Function for  Making a prediction with a list of bagged trees"
   ]
  },
  {
   "cell_type": "code",
   "execution_count": 15,
   "metadata": {
    "collapsed": true
   },
   "outputs": [],
   "source": [
    "def bagging_predict(trees, row):\n",
    "    predictions = [classify(row,tree) for tree in trees]\n",
    "    return max(set(predictions), key=predictions.count)"
   ]
  },
  {
   "cell_type": "markdown",
   "metadata": {},
   "source": [
    "#### Function for implementing Random Forest Algorithm"
   ]
  },
  {
   "cell_type": "code",
   "execution_count": 16,
   "metadata": {
    "collapsed": true
   },
   "outputs": [],
   "source": [
    "def random_forest(training_set, test_set, sample_size, n_trees, n_features):\n",
    "    start_time = time.time()\n",
    "    trees = list()\n",
    "    for i in range(n_trees):\n",
    "        sample = subsample(training_set, sample_size)\n",
    "        tree = build_tree(sample , n_features)\n",
    "        trees.append(tree)\n",
    "    predictions = [bagging_predict(trees, row) for row in test_set]\n",
    "    end_time = time.time()\n",
    "    return(predictions,start_time,end_time)"
   ]
  },
  {
   "cell_type": "markdown",
   "metadata": {},
   "source": [
    "#### Creating a list for Actual Labels of Test set for comparison with Predicted Labels"
   ]
  },
  {
   "cell_type": "code",
   "execution_count": 17,
   "metadata": {
    "collapsed": true
   },
   "outputs": [],
   "source": [
    "y_actual= []\n",
    "for row in test_set:\n",
    "    y_actual.append( row[-1])"
   ]
  },
  {
   "cell_type": "markdown",
   "metadata": {},
   "source": [
    "#### Accuracy of Random Forest Algorithm with 30% of Test Data"
   ]
  },
  {
   "cell_type": "code",
   "execution_count": 18,
   "metadata": {},
   "outputs": [
    {
     "name": "stdout",
     "output_type": "stream",
     "text": [
      "The Accuracy of Implemented Random Forest is : 94.27536231884058\n",
      "The Execution Time of the Random Forest Algorithm is 41.980743169784546 seconds\n"
     ]
    }
   ],
   "source": [
    "y_pred , start_time ,end_time = random_forest(training_set, test_set,1, 10 , 10)\n",
    "print( \"The Accuracy of Implemented Random Forest is :\",accuracy_score(y_actual,y_pred)*100)\n",
    "print(\"The Execution Time of the Random Forest Algorithm is %s seconds\" % (end_time - start_time))"
   ]
  },
  {
   "cell_type": "markdown",
   "metadata": {},
   "source": [
    "#### The Above Random Forest has been created with 10 Trees and 10 Random Features for evaluating Best Split"
   ]
  },
  {
   "cell_type": "markdown",
   "metadata": {},
   "source": [
    "#### Now we will evaluate Accuracy of SKlearn Random Forest Calssifier with the Same Hyperparameters"
   ]
  },
  {
   "cell_type": "code",
   "execution_count": 19,
   "metadata": {
    "collapsed": true
   },
   "outputs": [],
   "source": [
    "X_train = pd.DataFrame(training_set).iloc[:, :-1].values\n",
    "y_train = pd.DataFrame(training_set).iloc[:, 57].values\n",
    "X_test = pd.DataFrame(test_set).iloc[:, :-1].values\n",
    "y_test = pd.DataFrame(test_set).iloc[:, 57].values"
   ]
  },
  {
   "cell_type": "code",
   "execution_count": 20,
   "metadata": {
    "collapsed": true
   },
   "outputs": [],
   "source": [
    "def Sklearnrandomforest():\n",
    "    start_time = time.time()\n",
    "    classifier = RandomForestClassifier(n_estimators=10, criterion= 'entropy' , max_features = 10 , random_state = 10 )\n",
    "    classifier.fit(X_train , y_train)\n",
    "    y_pred = classifier.predict(X_test)\n",
    "    end_time = time.time()\n",
    "    return(y_pred,start_time,end_time)"
   ]
  },
  {
   "cell_type": "code",
   "execution_count": 21,
   "metadata": {},
   "outputs": [
    {
     "name": "stdout",
     "output_type": "stream",
     "text": [
      "the Accuracy is of Sklearn Random Forest is : 0.9485507246376812\n",
      "The Execution Time of the Random Forest Algorithm is 0.08078360557556152 seconds\n"
     ]
    }
   ],
   "source": [
    "y_pred , start_time ,end_time = Sklearnrandomforest()\n",
    "print ( \"the Accuracy is of Sklearn Random Forest is :\" , accuracy_score(y_test, y_pred))\n",
    "print(\"The Execution Time of the Random Forest Algorithm is %s seconds\" % (end_time - start_time))"
   ]
  },
  {
   "cell_type": "markdown",
   "metadata": {},
   "source": [
    "### <span style=\"color:blue\">Conclusion</span>\n",
    "\n",
    "### Based on the Above  , Below are the Accuracy and time Taken for Random Forest and Sklearn Built in Libray \n",
    "\n",
    "### Accuracy of  Random Forest = 94.27%   ,  Accuracy of the Scikitlearn's built-in library = 94.85%\n",
    "\n",
    "### Time Taken of  Random Forest = 41.98 Secs   , Time Taken of the Scikitlearn's built-in library = .08 Secs\n"
   ]
  },
  {
   "cell_type": "markdown",
   "metadata": {},
   "source": [
    "\n",
    "# <span style=\"color:red\">**Question 1(b)  - Exploring Sensitivity Parameter**</span>\n"
   ]
  },
  {
   "cell_type": "markdown",
   "metadata": {},
   "source": [
    "#### Below Code will create multiple random forests for differnt sensitivity values and calculate its accuracies"
   ]
  },
  {
   "cell_type": "code",
   "execution_count": 24,
   "metadata": {
    "collapsed": true
   },
   "outputs": [],
   "source": [
    "Accuracy = []\n",
    "Sensitivity = []\n",
    "for i in list(range(1,15)):\n",
    "    y_pred , start_time ,end_time = random_forest(training_set, test_set,1, 10 , i)\n",
    "    Accuracy.append(accuracy_score(y_actual,y_pred)* 100)\n",
    "    Sensitivity.append(i)"
   ]
  },
  {
   "cell_type": "markdown",
   "metadata": {},
   "source": [
    "### <span style=\"color:orange\"> Please be Aware executing the above code may take some time as it will create 14 different Random Forest Classifiers</span> "
   ]
  },
  {
   "cell_type": "code",
   "execution_count": 25,
   "metadata": {},
   "outputs": [
    {
     "data": {
      "text/plain": [
       "<matplotlib.legend.Legend at 0x1a8f7c2e9b0>"
      ]
     },
     "execution_count": 25,
     "metadata": {},
     "output_type": "execute_result"
    },
    {
     "data": {
      "image/png": "[encoded data removed]",
      "text/plain": [
       "<matplotlib.figure.Figure at 0x1a8f81ecdd8>"
      ]
     },
     "metadata": {},
     "output_type": "display_data"
    }
   ],
   "source": [
    "import matplotlib.pyplot as plt\n",
    "%matplotlib inline\n",
    "plotdata = pd.DataFrame({'Sensitivity': Sensitivity, 'Accuracy': Accuracy })\n",
    "plt.plot( 'Sensitivity', 'Accuracy', data=plotdata, marker='', color='blue', linewidth=2)\n",
    "plt.legend()"
   ]
  },
  {
   "cell_type": "markdown",
   "metadata": {
    "collapsed": true
   },
   "source": [
    "### <span style=\"color:blue\">Conclusion</span>\n",
    "###  If we can observe from the above results , accuracy is mostly increasing with the  sensitivity Parameter.  But after certain points it is stabilizing or oscillating in a smaller range \n",
    "\n"
   ]
  },
  {
   "cell_type": "markdown",
   "metadata": {},
   "source": [
    "\n",
    "# <span style=\"color:red\">**Question 1(c)  - Plot the OOB (out-of-bag) error vs test error**</span>"
   ]
  },
  {
   "cell_type": "code",
   "execution_count": 22,
   "metadata": {
    "collapsed": true
   },
   "outputs": [],
   "source": [
    "test_errors = []\n",
    "oob_erros= []\n",
    "Variables = []\n",
    "for i in list(range(1, 57)):\n",
    "    clf = RandomForestClassifier(  max_features = i , oob_score=True)\n",
    "    clf.fit(X_train , y_train)\n",
    "    y_pred = clf.predict(X_test)\n",
    "    test_error =  1- accuracy_score(y_test, y_pred)\n",
    "    oob_error = 1- clf.oob_score_\n",
    "    test_errors.append(test_error)\n",
    "    oob_erros.append(oob_error)\n",
    "    Variables.append(i)"
   ]
  },
  {
   "cell_type": "code",
   "execution_count": 23,
   "metadata": {},
   "outputs": [
    {
     "data": {
      "text/plain": [
       "<matplotlib.legend.Legend at 0x1a8f89bf898>"
      ]
     },
     "execution_count": 23,
     "metadata": {},
     "output_type": "execute_result"
    },
    {
     "data": {
      "image/png": "[encoded data removed]",
      "text/plain": [
       "<matplotlib.figure.Figure at 0x1a8f7c92f98>"
      ]
     },
     "metadata": {},
     "output_type": "display_data"
    }
   ],
   "source": [
    "import matplotlib.pyplot as plt\n",
    "%matplotlib inline\n",
    "Test_vs_OOB=pd.DataFrame({'Number_of_Variables': Variables, 'Test_Error': test_errors, 'OOB_Error': oob_erros })\n",
    "plt.plot( 'Number_of_Variables', 'Test_Error', data=Test_vs_OOB, marker='', color='blue', linewidth=2)\n",
    "plt.plot( 'Number_of_Variables', 'OOB_Error', data=Test_vs_OOB, marker='', color='green', linewidth=2)\n",
    "plt.legend()"
   ]
  },
  {
   "cell_type": "markdown",
   "metadata": {},
   "source": [
    "### <span style=\"color:blue\">Conclusion</span>\n",
    "\n",
    "### As we can see , initially when the nnumber of features used for best split  is less  , OOB Error is quite high compare to the Test Error . But as we increase the number of features used for best split they approach much closer. "
   ]
  }
 ],
 "metadata": {
  "kernelspec": {
   "display_name": "Python 3",
   "language": "python",
   "name": "python3"
  },
  "language_info": {
   "codemirror_mode": {
    "name": "ipython",
    "version": 3
   },
   "file_extension": ".py",
   "mimetype": "text/x-python",
   "name": "python",
   "nbconvert_exporter": "python",
   "pygments_lexer": "ipython3",
   "version": "3.6.3"
  }
 },
 "nbformat": 4,
 "nbformat_minor": 2
}
